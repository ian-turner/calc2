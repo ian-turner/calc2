{
 "cells": [
  {
   "cell_type": "markdown",
   "id": "ca9c7f1f-0adf-479d-b697-80df0350215e",
   "metadata": {},
   "source": [
    "# Chapter 8.5"
   ]
  },
  {
   "cell_type": "markdown",
   "id": "a8fc5a2d-0045-4625-96a8-0751866cdb60",
   "metadata": {},
   "source": [
    "## Problem \\#25"
   ]
  },
  {
   "cell_type": "markdown",
   "id": "be6b82c4-a12b-4dbd-b16f-f2ee631b4c0c",
   "metadata": {},
   "source": [
    "### 1. Creating the function"
   ]
  },
  {
   "cell_type": "code",
   "execution_count": 11,
   "id": "ed607c83-3312-445c-b427-03db5584c6b2",
   "metadata": {},
   "outputs": [
    {
     "data": {
      "text/html": [
       "<html>\\(\\displaystyle \\frac{2 \\, {\\left(x + 1\\right)}}{{\\left(x^{2} + 1\\right)} {\\left(x - 1\\right)}^{3}}\\)</html>"
      ],
      "text/latex": [
       "$\\displaystyle \\frac{2 \\, {\\left(x + 1\\right)}}{{\\left(x^{2} + 1\\right)} {\\left(x - 1\\right)}^{3}}$"
      ],
      "text/plain": [
       "2*(x + 1)/((x^2 + 1)*(x - 1)^3)"
      ]
     },
     "metadata": {},
     "output_type": "display_data"
    }
   ],
   "source": [
    "x = var('x')\n",
    "Fx = (2*x + 2) / ((x^2 + 1) * (x - 1)^3)\n",
    "show(Fx)"
   ]
  },
  {
   "cell_type": "markdown",
   "id": "c203bdee-e7ce-4828-a76d-2c012a03b6fa",
   "metadata": {},
   "source": [
    "### 2. Partial fraction decomposition"
   ]
  },
  {
   "cell_type": "code",
   "execution_count": 12,
   "id": "672d8bee-4f62-4727-87f5-ae542d2140b0",
   "metadata": {},
   "outputs": [
    {
     "data": {
      "text/html": [
       "<html>\\(\\displaystyle \\frac{D x + E}{x^{2} + 1} + \\frac{A}{x - 1} + \\frac{B}{{\\left(x - 1\\right)}^{2}} + \\frac{C}{{\\left(x - 1\\right)}^{3}}\\)</html>"
      ],
      "text/latex": [
       "$\\displaystyle \\frac{D x + E}{x^{2} + 1} + \\frac{A}{x - 1} + \\frac{B}{{\\left(x - 1\\right)}^{2}} + \\frac{C}{{\\left(x - 1\\right)}^{3}}$"
      ],
      "text/plain": [
       "(D*x + E)/(x^2 + 1) + A/(x - 1) + B/(x - 1)^2 + C/(x - 1)^3"
      ]
     },
     "metadata": {},
     "output_type": "display_data"
    }
   ],
   "source": [
    "A, B, C, D, E = var('A B C D E')\n",
    "fract_decomp = A / (x - 1) + B / ((x - 1)^2) + C / ((x - 1)^3) + (D*x + E) / (x^2 + 1)\n",
    "show(fract_decomp)"
   ]
  },
  {
   "cell_type": "code",
   "execution_count": 13,
   "id": "6c531bcb-7985-4f63-8e94-00fb1200cc64",
   "metadata": {},
   "outputs": [
    {
     "data": {
      "text/html": [
       "<html>\\(\\displaystyle \\frac{2 \\, {\\left(x + 1\\right)}}{{\\left(x^{2} + 1\\right)} {\\left(x - 1\\right)}^{3}} = \\frac{D x + E}{x^{2} + 1} + \\frac{A}{x - 1} + \\frac{B}{{\\left(x - 1\\right)}^{2}} + \\frac{C}{{\\left(x - 1\\right)}^{3}}\\)</html>"
      ],
      "text/latex": [
       "$\\displaystyle \\frac{2 \\, {\\left(x + 1\\right)}}{{\\left(x^{2} + 1\\right)} {\\left(x - 1\\right)}^{3}} = \\frac{D x + E}{x^{2} + 1} + \\frac{A}{x - 1} + \\frac{B}{{\\left(x - 1\\right)}^{2}} + \\frac{C}{{\\left(x - 1\\right)}^{3}}$"
      ],
      "text/plain": [
       "2*(x + 1)/((x^2 + 1)*(x - 1)^3) == (D*x + E)/(x^2 + 1) + A/(x - 1) + B/(x - 1)^2 + C/(x - 1)^3"
      ]
     },
     "metadata": {},
     "output_type": "display_data"
    }
   ],
   "source": [
    "full_eq = Fx == fract_decomp\n",
    "show(full_eq)"
   ]
  },
  {
   "cell_type": "code",
   "execution_count": 14,
   "id": "a8a0eea6-912d-4b9f-ada8-d4e016694e2d",
   "metadata": {},
   "outputs": [
    {
     "data": {
      "text/html": [
       "<html>\\(\\displaystyle 2 \\, x + 2 = {\\left(A + D\\right)} x^{4} - {\\left(2 \\, A - B + 3 \\, D - E\\right)} x^{3} + {\\left(2 \\, A - B + C + 3 \\, D - 3 \\, E\\right)} x^{2} - {\\left(2 \\, A - B + D - 3 \\, E\\right)} x + A - B + C - E\\)</html>"
      ],
      "text/latex": [
       "$\\displaystyle 2 \\, x + 2 = {\\left(A + D\\right)} x^{4} - {\\left(2 \\, A - B + 3 \\, D - E\\right)} x^{3} + {\\left(2 \\, A - B + C + 3 \\, D - 3 \\, E\\right)} x^{2} - {\\left(2 \\, A - B + D - 3 \\, E\\right)} x + A - B + C - E$"
      ],
      "text/plain": [
       "2*x + 2 == (A + D)*x^4 - (2*A - B + 3*D - E)*x^3 + (2*A - B + C + 3*D - 3*E)*x^2 - (2*A - B + D - 3*E)*x + A - B + C - E"
      ]
     },
     "metadata": {},
     "output_type": "display_data"
    }
   ],
   "source": [
    "eq = full_eq * (x^2 + 1) * (x - 1)^3\n",
    "eq = eq.simplify_full()\n",
    "show(eq)"
   ]
  },
  {
   "cell_type": "markdown",
   "id": "0e93416f-03f0-4e1e-a48d-f2a66e5a29b6",
   "metadata": {},
   "source": [
    "### 3. Solving for constants"
   ]
  },
  {
   "cell_type": "code",
   "execution_count": 15,
   "id": "01e93ddd-eea7-48ef-a9b9-9e97d5664cfa",
   "metadata": {},
   "outputs": [
    {
     "data": {
      "text/html": [
       "<html>\\(\\displaystyle 4 = 2 \\, C\\)</html>"
      ],
      "text/latex": [
       "$\\displaystyle 4 = 2 \\, C$"
      ],
      "text/plain": [
       "4 == 2*C"
      ]
     },
     "metadata": {},
     "output_type": "display_data"
    },
    {
     "data": {
      "text/html": [
       "<html>\\(\\displaystyle 6 = 5 \\, A + 5 \\, B + 5 \\, C + 2 \\, D + E\\)</html>"
      ],
      "text/latex": [
       "$\\displaystyle 6 = 5 \\, A + 5 \\, B + 5 \\, C + 2 \\, D + E$"
      ],
      "text/plain": [
       "6 == 5*A + 5*B + 5*C + 2*D + E"
      ]
     },
     "metadata": {},
     "output_type": "display_data"
    },
    {
     "data": {
      "text/html": [
       "<html>\\(\\displaystyle 8 = 40 \\, A + 20 \\, B + 10 \\, C + 24 \\, D + 8 \\, E\\)</html>"
      ],
      "text/latex": [
       "$\\displaystyle 8 = 40 \\, A + 20 \\, B + 10 \\, C + 24 \\, D + 8 \\, E$"
      ],
      "text/plain": [
       "8 == 40*A + 20*B + 10*C + 24*D + 8*E"
      ]
     },
     "metadata": {},
     "output_type": "display_data"
    },
    {
     "data": {
      "text/html": [
       "<html>\\(\\displaystyle 10 = 153 \\, A + 51 \\, B + 17 \\, C + 108 \\, D + 27 \\, E\\)</html>"
      ],
      "text/latex": [
       "$\\displaystyle 10 = 153 \\, A + 51 \\, B + 17 \\, C + 108 \\, D + 27 \\, E$"
      ],
      "text/plain": [
       "10 == 153*A + 51*B + 17*C + 108*D + 27*E"
      ]
     },
     "metadata": {},
     "output_type": "display_data"
    },
    {
     "data": {
      "text/html": [
       "<html>\\(\\displaystyle 12 = 416 \\, A + 104 \\, B + 26 \\, C + 320 \\, D + 64 \\, E\\)</html>"
      ],
      "text/latex": [
       "$\\displaystyle 12 = 416 \\, A + 104 \\, B + 26 \\, C + 320 \\, D + 64 \\, E$"
      ],
      "text/plain": [
       "12 == 416*A + 104*B + 26*C + 320*D + 64*E"
      ]
     },
     "metadata": {},
     "output_type": "display_data"
    }
   ],
   "source": [
    "eq1 = eq.subs(x==1)\n",
    "eq2 = eq.subs(x==2)\n",
    "eq3 = eq.subs(x==3)\n",
    "eq4 = eq.subs(x==4)\n",
    "eq5 = eq.subs(x==5)\n",
    "show(eq1)\n",
    "show(eq2)\n",
    "show(eq3)\n",
    "show(eq4)\n",
    "show(eq5)"
   ]
  },
  {
   "cell_type": "code",
   "execution_count": 16,
   "id": "f5c91e79-5ca4-4f09-a7c4-d1062e00d409",
   "metadata": {},
   "outputs": [
    {
     "data": {
      "text/html": [
       "<html>\\(\\displaystyle \\left[A = 0, B = \\left(-1\\right), C = 2, D = 0, E = 1\\right]\\)</html>"
      ],
      "text/latex": [
       "$\\displaystyle \\left[A = 0, B = \\left(-1\\right), C = 2, D = 0, E = 1\\right]$"
      ],
      "text/plain": [
       "[A == 0, B == -1, C == 2, D == 0, E == 1]"
      ]
     },
     "metadata": {},
     "output_type": "display_data"
    }
   ],
   "source": [
    "result = solve([eq1, eq2, eq3, eq4, eq5], [A, B, C, D, E])[0]\n",
    "show(result)"
   ]
  },
  {
   "cell_type": "markdown",
   "id": "54e5181e-9921-40bb-b63e-b429c4fa08b6",
   "metadata": {},
   "source": [
    "### 4. Take the integral"
   ]
  },
  {
   "cell_type": "code",
   "execution_count": 17,
   "id": "fc142e49-cbc3-40f4-b237-4b824f2594e7",
   "metadata": {},
   "outputs": [
    {
     "data": {
      "text/html": [
       "<html>\\(\\displaystyle \\frac{1}{x^{2} + 1} - \\frac{1}{{\\left(x - 1\\right)}^{2}} + \\frac{2}{{\\left(x - 1\\right)}^{3}}\\)</html>"
      ],
      "text/latex": [
       "$\\displaystyle \\frac{1}{x^{2} + 1} - \\frac{1}{{\\left(x - 1\\right)}^{2}} + \\frac{2}{{\\left(x - 1\\right)}^{3}}$"
      ],
      "text/plain": [
       "1/(x^2 + 1) - 1/(x - 1)^2 + 2/(x - 1)^3"
      ]
     },
     "metadata": {},
     "output_type": "display_data"
    }
   ],
   "source": [
    "new_integrand = fract_decomp.subs(result)\n",
    "show(new_integrand)"
   ]
  },
  {
   "cell_type": "code",
   "execution_count": 18,
   "id": "ff0ee919-b964-4937-9fb3-7352c733d770",
   "metadata": {},
   "outputs": [
    {
     "data": {
      "text/html": [
       "<html>\\(\\displaystyle c + \\frac{1}{x - 1} - \\frac{1}{{\\left(x - 1\\right)}^{2}} + \\arctan\\left(x\\right)\\)</html>"
      ],
      "text/latex": [
       "$\\displaystyle c + \\frac{1}{x - 1} - \\frac{1}{{\\left(x - 1\\right)}^{2}} + \\arctan\\left(x\\right)$"
      ],
      "text/plain": [
       "c + 1/(x - 1) - 1/(x - 1)^2 + arctan(x)"
      ]
     },
     "metadata": {},
     "output_type": "display_data"
    }
   ],
   "source": [
    "answer = integrate(new_integrand, x)\n",
    "c = var('c')\n",
    "answer = answer + c\n",
    "show(answer)"
   ]
  }
 ],
 "metadata": {
  "kernelspec": {
   "display_name": "SageMath 10.2",
   "language": "sage",
   "name": "sagemath-10.2"
  },
  "language_info": {
   "codemirror_mode": {
    "name": "ipython",
    "version": 3
   },
   "file_extension": ".py",
   "mimetype": "text/x-python",
   "name": "python",
   "nbconvert_exporter": "python",
   "pygments_lexer": "ipython3",
   "version": "3.11.1"
  }
 },
 "nbformat": 4,
 "nbformat_minor": 5
}
